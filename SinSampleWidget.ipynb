{
 "cells": [
  {
   "cell_type": "code",
   "execution_count": 139,
   "metadata": {},
   "outputs": [],
   "source": [
    "import datetime\n",
    "import numpy as np\n",
    "import pandas as pd\n",
    "\n",
    "import plotly.graph_objects as go\n",
    "from ipywidgets import widgets\n",
    "import chart_studio.plotly as py"
   ]
  },
  {
   "cell_type": "markdown",
   "metadata": {},
   "source": [
    "### Generating data for sin wave"
   ]
  },
  {
   "cell_type": "markdown",
   "metadata": {},
   "source": [
    "First we will generate some data to plot the sin wave\n",
    "\n",
    "x vector (x axis) = 100 points from 0 to 1 \n",
    "\n",
    "t vector (y axis) = apply sin(2 * pi * x) to the previous generated points\n",
    "\n",
    "It is important to think the t vector as a function broadcasted on the x vector"
   ]
  },
  {
   "cell_type": "code",
   "execution_count": 140,
   "metadata": {},
   "outputs": [
    {
     "data": {
      "text/plain": [
       "matrix([[2, 4, 6]])"
      ]
     },
     "execution_count": 140,
     "metadata": {},
     "output_type": "execute_result"
    }
   ],
   "source": [
    "#Example of broadcasting\n",
    "x = np.matrix([1,2,3]) # shape (1,3)\n",
    "t = 2*x                # Broadcast multiplication of 2 on vector x\n",
    "t"
   ]
  },
  {
   "cell_type": "code",
   "execution_count": 145,
   "metadata": {},
   "outputs": [
    {
     "data": {
      "text/plain": [
       "(array([0.        , 0.11111111, 0.22222222, 0.33333333, 0.44444444,\n",
       "        0.55555556, 0.66666667, 0.77777778, 0.88888889, 1.        ]),\n",
       " array([ 0.00000000e+00,  6.42787610e-01,  9.84807753e-01,  8.66025404e-01,\n",
       "         3.42020143e-01, -3.42020143e-01, -8.66025404e-01, -9.84807753e-01,\n",
       "        -6.42787610e-01, -2.44929360e-16]))"
      ]
     },
     "execution_count": 145,
     "metadata": {},
     "output_type": "execute_result"
    }
   ],
   "source": [
    "# Create random data with numpy\n",
    "np.random.seed(1)\n",
    "N = 10\n",
    "x = np.linspace(0, 1, N)\n",
    "t = np.sin(2*np.pi*x)\n",
    "x,t"
   ]
  },
  {
   "cell_type": "markdown",
   "metadata": {},
   "source": [
    "### Plotting sin wave in plotly\n",
    "\n",
    "Now that we have some data we can plot it!!!\n",
    "\n",
    "I went to a few different tutorials to find out how to plot what I want.\n",
    "\n",
    "The first place you should look is here https://plot.ly/python/line-charts/ which gives the basics on making plotly graph objects so we can add cool widgets in later. Basically what we are doing is making a scatter plot of the 100 points then putting it in line mode so it looks smooth. Changing color was a little more difficult but this page https://plot.ly/python/marker-style/ gives good examples"
   ]
  },
  {
   "cell_type": "code",
   "execution_count": 146,
   "metadata": {},
   "outputs": [
    {
     "data": {
      "text/html": [
       "\n",
       "        <iframe\n",
       "            width=\"100%\"\n",
       "            height=\"525px\"\n",
       "            src=\"https://plot.ly/~gradientgardens/12.embed\"\n",
       "            frameborder=\"0\"\n",
       "            allowfullscreen\n",
       "        ></iframe>\n",
       "        "
      ],
      "text/plain": [
       "<IPython.lib.display.IFrame at 0x11fe6aa90>"
      ]
     },
     "execution_count": 146,
     "metadata": {},
     "output_type": "execute_result"
    }
   ],
   "source": [
    "sinwave = go.Scatter(x=x, y=t,\n",
    "                    mode='lines',\n",
    "                    name='sinwave',\n",
    "                    marker=dict(\n",
    "                        color='green',\n",
    "                        size=20,\n",
    "                        line=dict(color='green',width=2)\n",
    "                            )\n",
    "                        )\n",
    "\n",
    "fig.add_trace(sinwave)\n",
    "data = [sinwave]\n",
    "\n",
    "py.iplot(data, filename = 'SinSample', auto_open=False)"
   ]
  },
  {
   "cell_type": "markdown",
   "metadata": {},
   "source": [
    "### Sampling points from the Sin wave with Gaussian noise\n",
    "\n",
    "Now we want to sample points from our sin wave but add some Gaussian/Normal noise to it. This is important because everything you measure in the real world has some noise or error to it.\n",
    "\n",
    "As we move along the x axis, we want to use the value of t in our sin wave as the mean for the normal distribution function.\n",
    "\n",
    "\n",
    "This is a great introduction to histograms\n",
    "\n",
    "https://help.plot.ly/histogram/\n",
    "\n",
    "You can get more information on the normal distribution here\n",
    "\n",
    "https://docs.scipy.org/doc/numpy-1.15.0/reference/generated/numpy.random.normal.html"
   ]
  },
  {
   "cell_type": "markdown",
   "metadata": {},
   "source": [
    "### Example of normal distribution from one value of t\n",
    "\n",
    "We will start off simple and take one value of t as input for mean of the normal distribution. \n",
    "\n",
    "Lets take a value near the middle. \n",
    "\n",
    "The standard deviation (sigma) is set to 0.1 \n",
    "\n",
    "We will sample 1000 points"
   ]
  },
  {
   "cell_type": "code",
   "execution_count": 158,
   "metadata": {},
   "outputs": [
    {
     "data": {
      "text/plain": [
       "0.3420201433256689"
      ]
     },
     "execution_count": 158,
     "metadata": {},
     "output_type": "execute_result"
    }
   ],
   "source": [
    "#If you look at the plot above the sin wave is around 0 half way through\n",
    "middle = int((N - 1)/2)\n",
    "mid_x = x[middle] # Half of points. \n",
    "mid_t = t[middle] # Half of points. \n",
    "mid_t"
   ]
  },
  {
   "cell_type": "code",
   "execution_count": 148,
   "metadata": {},
   "outputs": [],
   "source": [
    "G_N = 1000\n",
    "mu, sigma = mid_t, 0.1 # mean and standard deviation\n",
    "\n",
    "G = np.random.normal(mu, sigma, G_N)"
   ]
  },
  {
   "cell_type": "code",
   "execution_count": 149,
   "metadata": {},
   "outputs": [
    {
     "data": {
      "text/html": [
       "\n",
       "        <iframe\n",
       "            width=\"100%\"\n",
       "            height=\"525px\"\n",
       "            src=\"https://plot.ly/~gradientgardens/14.embed\"\n",
       "            frameborder=\"0\"\n",
       "            allowfullscreen\n",
       "        ></iframe>\n",
       "        "
      ],
      "text/plain": [
       "<IPython.lib.display.IFrame at 0x11ea92c50>"
      ]
     },
     "execution_count": 149,
     "metadata": {},
     "output_type": "execute_result"
    }
   ],
   "source": [
    "t_hist = go.Histogram(x=G,\n",
    "                      name='t_hist')\n",
    "\n",
    "data_t =[t_hist]\n",
    "\n",
    "fig = go.Figure(data=data_t)\n",
    "py.iplot(data_t, filename = 't_hist', auto_open=False)"
   ]
  },
  {
   "cell_type": "markdown",
   "metadata": {},
   "source": [
    "### Plotting the normal curve over the normal histogram\n",
    "\n",
    "We will now do something a little more complicated... \n",
    "\n",
    "lets calculate the amount in the bins by hand and plot these as a curve over the histogram. \n",
    "\n",
    "This is called the normal curve"
   ]
  },
  {
   "cell_type": "code",
   "execution_count": 159,
   "metadata": {},
   "outputs": [
    {
     "data": {
      "text/plain": [
       "0.0366437052830384"
      ]
     },
     "execution_count": 159,
     "metadata": {},
     "output_type": "execute_result"
    }
   ],
   "source": [
    "bins = 20\n",
    "G_min = np.min(G) # Smallest value of gauss\n",
    "G_max = np.max(G) # Get max  value of gauss\n",
    "G_range = G_max - G_min        # Gaussian range\n",
    "\n",
    "bin_length = G_range / bins     # Get length of bins\n",
    "G_min"
   ]
  },
  {
   "cell_type": "code",
   "execution_count": 160,
   "metadata": {},
   "outputs": [],
   "source": [
    "b = 0\n",
    "b_start = G_min\n",
    "b_stop  = G_min + bin_length\n",
    "\n",
    "bin_counts = []\n",
    "bin_starts = []\n",
    "while b < bins:                    # Loop over bins\n",
    "    b_count = 0\n",
    "    for g in G:                    # Loop over gaussian points\n",
    "        if b_start <= g < b_stop:\n",
    "            b_count += 1\n",
    "            \n",
    "    bin_counts.append(b_count)\n",
    "    bin_starts.append(b_start)\n",
    "    b_start = b_start + bin_length\n",
    "    b_stop  = b_stop + bin_length\n",
    "    b += 1\n",
    "    "
   ]
  },
  {
   "cell_type": "code",
   "execution_count": 161,
   "metadata": {},
   "outputs": [
    {
     "data": {
      "text/plain": [
       "[4, 6, 15, 22, 41, 62, 102, 121, 153, 133, 122, 102, 54, 36, 18, 6, 0, 1, 1, 0]"
      ]
     },
     "execution_count": 161,
     "metadata": {},
     "output_type": "execute_result"
    }
   ],
   "source": [
    "bin_counts"
   ]
  },
  {
   "cell_type": "markdown",
   "metadata": {},
   "source": [
    "### Plotting the normal curve over the histogram\n",
    "\n",
    "Below you will see the histogram function modified by our calculated bin_length.\n",
    "\n",
    "As well as the count of our 20 bins as dots on the normal curve. \n",
    "\n",
    "Our bin amounts don't match up exactly with the plotly plot but it is enough to get the point across.\n",
    "\n",
    "The take home is that when we sample from a normal distribution we are more likely to get values near the middle because they have higher counts."
   ]
  },
  {
   "cell_type": "code",
   "execution_count": 162,
   "metadata": {},
   "outputs": [
    {
     "data": {
      "text/html": [
       "\n",
       "        <iframe\n",
       "            width=\"100%\"\n",
       "            height=\"525px\"\n",
       "            src=\"https://plot.ly/~gradientgardens/24.embed\"\n",
       "            frameborder=\"0\"\n",
       "            allowfullscreen\n",
       "        ></iframe>\n",
       "        "
      ],
      "text/plain": [
       "<IPython.lib.display.IFrame at 0x11f4ec550>"
      ]
     },
     "execution_count": 162,
     "metadata": {},
     "output_type": "execute_result"
    }
   ],
   "source": [
    "t_hist = go.Histogram(x=G,\n",
    "                      name='t_hist',\n",
    "                      xbins=dict(\n",
    "                        start=G_min,\n",
    "                        end=G_max,\n",
    "                        size=bin_length\n",
    "                    ))\n",
    "\n",
    "normal_curve = go.Scatter(x=bin_starts, y=bin_counts,\n",
    "                    mode='lines+markers',\n",
    "                    name='normal curve',\n",
    "                    marker=dict(\n",
    "                        color='purple',\n",
    "                        size=20,\n",
    "                        line=dict(color='red',width=2)\n",
    "                            )\n",
    "                        )\n",
    "\n",
    "\n",
    "data_t_normal_curve =[t_hist, normal_curve]\n",
    "\n",
    "# fig = go.Figure(data=data_t_normal_curve)\n",
    "py.iplot(data_t_normal_curve, filename = 't_hist_normalcurve', auto_open=False)"
   ]
  },
  {
   "cell_type": "markdown",
   "metadata": {},
   "source": [
    "### Plot of gaussian noise on middle value of Sin wave\n",
    "\n",
    "We will now plot the gaussian noise on the sin wave. Essentially the plot above is rotated to the right"
   ]
  },
  {
   "cell_type": "code",
   "execution_count": 191,
   "metadata": {},
   "outputs": [],
   "source": [
    "# Making a vector of our middle value. just for plotting\n",
    "mid_x_vector = mid_x * np.ones(G_N)\n",
    "\n",
    "# Now we can add in the points for the normal curve that we had above\n",
    "# I am dividing each count by the max count and then dividing\n",
    "# that by 10 to make it look good on the plot\n",
    "bin_counts_normalized = (bin_counts/np.max(bin_counts)) / 10\n",
    "\n",
    "#Now lets add that to mid_x so we will see the distribution in the correct place on x axis\n",
    "mid_x_bin_counts_normalized = (mid_x * np.ones(bins)) + bin_counts_normalized"
   ]
  },
  {
   "cell_type": "code",
   "execution_count": 192,
   "metadata": {},
   "outputs": [
    {
     "data": {
      "text/html": [
       "\n",
       "        <iframe\n",
       "            width=\"100%\"\n",
       "            height=\"525px\"\n",
       "            src=\"https://plot.ly/~gradientgardens/12.embed\"\n",
       "            frameborder=\"0\"\n",
       "            allowfullscreen\n",
       "        ></iframe>\n",
       "        "
      ],
      "text/plain": [
       "<IPython.lib.display.IFrame at 0x11e7fa080>"
      ]
     },
     "execution_count": 192,
     "metadata": {},
     "output_type": "execute_result"
    }
   ],
   "source": [
    "sinwave = go.Scatter(x=x, y=t,\n",
    "                    mode='lines',\n",
    "                    name='sinwave',\n",
    "                    marker=dict(\n",
    "                        color='green',\n",
    "                        size=20,\n",
    "                        line=dict(color='green',width=2)\n",
    "                            )\n",
    "                        )\n",
    "\n",
    "\n",
    "\n",
    "normal_dist = go.Scatter(x=mid_x_vector, y=G,\n",
    "                    mode='markers',\n",
    "                    name='normal dist',\n",
    "                    opacity=0.50,\n",
    "                    marker=dict(\n",
    "                        color='blue',\n",
    "                        size=2,\n",
    "                        line=dict(color='red',width=2)\n",
    "                            )\n",
    "                        )\n",
    "\n",
    "normal_curve = go.Scatter(x=mid_x_bin_counts_normalized, y=bin_starts,\n",
    "                    mode='lines+markers',\n",
    "                    name='normal curve (20 bins)',\n",
    "                    marker=dict(\n",
    "                        color='purple',\n",
    "                        size=10,\n",
    "                        line=dict(color='red',width=2)\n",
    "                            )\n",
    "                        )\n",
    "\n",
    "\n",
    "\n",
    "data = [sinwave, normal_dist, normal_curve]\n",
    "\n",
    "py.iplot(data, filename = 'SinSample', auto_open=False)"
   ]
  },
  {
   "cell_type": "code",
   "execution_count": null,
   "metadata": {},
   "outputs": [],
   "source": []
  },
  {
   "cell_type": "code",
   "execution_count": null,
   "metadata": {},
   "outputs": [],
   "source": []
  },
  {
   "cell_type": "code",
   "execution_count": null,
   "metadata": {},
   "outputs": [],
   "source": []
  },
  {
   "cell_type": "code",
   "execution_count": 10,
   "metadata": {},
   "outputs": [],
   "source": [
    "df = pd.read_csv(\n",
    "    'https://raw.githubusercontent.com/yankev/testing/master/datasets/nycflights.csv')\n",
    "df = df.drop(df.columns[[0]], axis=1)"
   ]
  },
  {
   "cell_type": "code",
   "execution_count": 11,
   "metadata": {},
   "outputs": [],
   "source": [
    "month = widgets.IntSlider(\n",
    "    value=1.0,\n",
    "    min=1.0,\n",
    "    max=12.0,\n",
    "    step=1.0,\n",
    "    description='Month:',\n",
    "    continuous_update=False\n",
    ")\n",
    "\n",
    "use_date = widgets.Checkbox(\n",
    "    description='Date: ',\n",
    "    value=True,\n",
    ")\n",
    "\n",
    "container = widgets.HBox(children=[use_date, month])\n",
    "\n",
    "textbox = widgets.Dropdown(\n",
    "    description='Airline:   ',\n",
    "    value='DL',\n",
    "    options=df['carrier'].unique().tolist()\n",
    ")\n",
    "\n",
    "origin = widgets.Dropdown(\n",
    "    options=list(df['origin'].unique()),\n",
    "    value='LGA',\n",
    "    description='Origin Airport:',\n",
    ")\n",
    "\n",
    "\n",
    "# Assign an empty figure widget with two traces\n",
    "trace1 = go.Histogram(x=df['arr_delay'], opacity=0.75, name='Arrival Delays')\n",
    "trace2 = go.Histogram(x=df['dep_delay'], opacity=0.75, name='Departure Delays')\n",
    "g = go.FigureWidget(data=[trace1, trace2],\n",
    "                    layout=go.Layout(\n",
    "                        title=dict(\n",
    "                            text='NYC FlightDatabase'\n",
    "                        ),\n",
    "                        barmode='overlay'\n",
    "                    ))"
   ]
  },
  {
   "cell_type": "code",
   "execution_count": 12,
   "metadata": {},
   "outputs": [],
   "source": [
    "def validate():\n",
    "    if origin.value in df['origin'].unique() and textbox.value in df['carrier'].unique():\n",
    "        return True\n",
    "    else:\n",
    "        return False\n",
    "\n",
    "\n",
    "def response(change):\n",
    "    if validate():\n",
    "        if use_date.value:\n",
    "            filter_list = [i and j and k for i, j, k in\n",
    "                           zip(df['month'] == month.value, df['carrier'] == textbox.value,\n",
    "                               df['origin'] == origin.value)]\n",
    "            temp_df = df[filter_list]\n",
    "\n",
    "        else:\n",
    "            filter_list = [i and j for i, j in\n",
    "                           zip(df['carrier'] == 'DL', df['origin'] == origin.value)]\n",
    "            temp_df = df[filter_list]\n",
    "        x1 = temp_df['arr_delay']\n",
    "        x2 = temp_df['dep_delay']\n",
    "        with g.batch_update():\n",
    "            g.data[0].x = x1\n",
    "            g.data[1].x = x2\n",
    "            g.layout.barmode = 'overlay'\n",
    "            g.layout.xaxis.title = 'Delay in Minutes'\n",
    "            g.layout.yaxis.title = 'Number of Delays'\n",
    "\n",
    "\n",
    "origin.observe(response, names=\"value\")\n",
    "textbox.observe(response, names=\"value\")\n",
    "month.observe(response, names=\"value\")\n",
    "use_date.observe(response, names=\"value\")"
   ]
  },
  {
   "cell_type": "code",
   "execution_count": 13,
   "metadata": {},
   "outputs": [
    {
     "data": {
      "application/vnd.jupyter.widget-view+json": {
       "model_id": "d07f93e5e8754c3cabb901e2d7d7ec3d",
       "version_major": 2,
       "version_minor": 0
      },
      "text/plain": [
       "VBox(children=(HBox(children=(Checkbox(value=True, description='Date: '), IntSlider(value=1, continuous_update…"
      ]
     },
     "metadata": {},
     "output_type": "display_data"
    }
   ],
   "source": [
    "\n",
    "\n",
    "container2 = widgets.HBox([origin, textbox])\n",
    "widgets.VBox([container,\n",
    "              container2,\n",
    "              g])\n",
    "\n"
   ]
  },
  {
   "cell_type": "code",
   "execution_count": null,
   "metadata": {},
   "outputs": [],
   "source": []
  }
 ],
 "metadata": {
  "kernelspec": {
   "display_name": "Python 3",
   "language": "python",
   "name": "python3"
  },
  "language_info": {
   "codemirror_mode": {
    "name": "ipython",
    "version": 3
   },
   "file_extension": ".py",
   "mimetype": "text/x-python",
   "name": "python",
   "nbconvert_exporter": "python",
   "pygments_lexer": "ipython3",
   "version": "3.7.3"
  }
 },
 "nbformat": 4,
 "nbformat_minor": 2
}
