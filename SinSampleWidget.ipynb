{
 "cells": [
  {
   "cell_type": "code",
   "execution_count": 305,
   "metadata": {},
   "outputs": [],
   "source": [
    "import datetime\n",
    "import numpy as np\n",
    "import pandas as pd\n",
    "\n",
    "import plotly.graph_objects as go\n",
    "from ipywidgets import widgets\n",
    "import chart_studio.plotly as py"
   ]
  },
  {
   "cell_type": "markdown",
   "metadata": {},
   "source": [
    "\n",
    "### Overview\n",
    "\n",
    "There are two goals in this post. \n",
    "\n",
    "1. Become more familiar with plotly and put in a simple interactive widget.\n",
    "2. Create training data for fitting polynomials by sampling from a sin wave with gaussian noise."
   ]
  },
  {
   "cell_type": "markdown",
   "metadata": {},
   "source": [
    "### Generating data for sin wave"
   ]
  },
  {
   "cell_type": "markdown",
   "metadata": {},
   "source": [
    "First we will generate some data to plot the sin wave\n",
    "\n",
    "x vector (x axis) = 10 points from 0 to 1 \n",
    "\n",
    "t vector (y axis) = apply sin(2 * pi * x) to the previous generated points\n",
    "\n",
    "It is important to think the of t vector as a the result of a function broadcasted on the x vector"
   ]
  },
  {
   "cell_type": "code",
   "execution_count": 306,
   "metadata": {},
   "outputs": [
    {
     "data": {
      "text/plain": [
       "matrix([[2, 4, 6]])"
      ]
     },
     "execution_count": 306,
     "metadata": {},
     "output_type": "execute_result"
    }
   ],
   "source": [
    "#Example of broadcasting\n",
    "x = np.matrix([1,2,3]) # shape (1,3)\n",
    "t = 2*x                # Broadcast multiplication of 2 on vector x\n",
    "t"
   ]
  },
  {
   "cell_type": "code",
   "execution_count": 307,
   "metadata": {},
   "outputs": [
    {
     "data": {
      "text/plain": [
       "(array([0.        , 0.11111111, 0.22222222, 0.33333333, 0.44444444,\n",
       "        0.55555556, 0.66666667, 0.77777778, 0.88888889, 1.        ]),\n",
       " array([ 0.00000000e+00,  6.42787610e-01,  9.84807753e-01,  8.66025404e-01,\n",
       "         3.42020143e-01, -3.42020143e-01, -8.66025404e-01, -9.84807753e-01,\n",
       "        -6.42787610e-01, -2.44929360e-16]))"
      ]
     },
     "execution_count": 307,
     "metadata": {},
     "output_type": "execute_result"
    }
   ],
   "source": [
    "# Create random data with numpy\n",
    "np.random.seed(1)\n",
    "N = 10\n",
    "x = np.linspace(0, 1, N)    # Sample 10 evenly spaced points from 0 to 1\n",
    "t = np.sin(2*np.pi*x)       # Apply the sin function with 2*pi in it\n",
    "x,t"
   ]
  },
  {
   "cell_type": "markdown",
   "metadata": {},
   "source": [
    "### Plotting sin wave in plotly\n",
    "\n",
    "Now that we have some data we can plot it!!!\n",
    "\n",
    "I went to a few different tutorials to find out how to plot what I want.\n",
    "\n",
    "The first place you should look is here https://plot.ly/python/line-charts/ which gives the basics on making plotly graph objects so we can add cool widgets in later. Basically what we are doing is making a scatter plot of the 10 points then putting it in line mode so it looks smooth. Changing color was a little more difficult but this page https://plot.ly/python/marker-style/ gives good examples"
   ]
  },
  {
   "cell_type": "code",
   "execution_count": 308,
   "metadata": {},
   "outputs": [
    {
     "data": {
      "text/html": [
       "\n",
       "        <iframe\n",
       "            width=\"100%\"\n",
       "            height=\"525px\"\n",
       "            src=\"https://plot.ly/~gradientgardens/66.embed\"\n",
       "            frameborder=\"0\"\n",
       "            allowfullscreen\n",
       "        ></iframe>\n",
       "        "
      ],
      "text/plain": [
       "<IPython.lib.display.IFrame at 0x11e7dba58>"
      ]
     },
     "execution_count": 308,
     "metadata": {},
     "output_type": "execute_result"
    }
   ],
   "source": [
    "fig = go.Figure()\n",
    "\n",
    "sinwave = go.Scatter(x=x, y=t,\n",
    "    mode='lines',\n",
    "    name='sinwave',\n",
    "    marker=dict(\n",
    "        color='green',\n",
    "        size=20,\n",
    "        line=dict(color='green',width=2)\n",
    "            )\n",
    "        )\n",
    "    \n",
    "\n",
    "\n",
    "# Add title info to figure\n",
    "fig.update_layout(\n",
    "    title=\"Sin wave\",\n",
    "    xaxis_title=\"x\",\n",
    "    yaxis_title=\"t\",\n",
    ")\n",
    "\n",
    "fig.add_trace(sinwave)\n",
    "\n",
    "py.iplot(fig, filename = 'Sin', auto_open=False)"
   ]
  },
  {
   "cell_type": "markdown",
   "metadata": {},
   "source": [
    "### Sampling points from the Sin wave with Gaussian noise\n",
    "\n",
    "Now we want to sample points from our sin wave but add some Gaussian/Normal noise to it. This is important because everything you measure in the real world has some noise or error to it.\n",
    "\n",
    "As we move along the x axis, we want to use the value of t in our sin wave as the mean for the normal distribution function.\n",
    "\n",
    "\n",
    "This is a great introduction to histograms\n",
    "\n",
    "https://help.plot.ly/histogram/\n",
    "\n",
    "You can get more information on the normal distribution here\n",
    "\n",
    "https://docs.scipy.org/doc/numpy-1.15.0/reference/generated/numpy.random.normal.html\n",
    "\n",
    "Don't worry of none of this makes sense to you right now hopefully the plots below will give you some good visual intuition"
   ]
  },
  {
   "cell_type": "markdown",
   "metadata": {},
   "source": [
    "### Example of normal distribution from one value of t\n",
    "\n",
    "We will start off simple and take one value of t as input for mean of the normal distribution\n",
    "\n",
    "Lets take a value near the middle of the plot\n",
    "\n",
    "The standard deviation (sigma) is set to 0.1 \n",
    "\n",
    "We will sample 1000 points from the gaussian distribution"
   ]
  },
  {
   "cell_type": "code",
   "execution_count": 309,
   "metadata": {},
   "outputs": [],
   "source": [
    "middle = int((N - 1)/2) # Get index around half of our points\n",
    "mid_x = x[middle]       # This will return 0.4444\n",
    "mid_t = t[middle]       # Remember this is x transformed by function sin(2*x*pi)"
   ]
  },
  {
   "cell_type": "code",
   "execution_count": 310,
   "metadata": {},
   "outputs": [],
   "source": [
    "G_N = 1000                          # Choose 1000 points for gaussian sample\n",
    "mu, sigma = mid_t, 0.1              # mean (mid_t) and standard deviation \n",
    "\n",
    "G = np.random.normal(mu, sigma, G_N)"
   ]
  },
  {
   "cell_type": "code",
   "execution_count": 311,
   "metadata": {},
   "outputs": [
    {
     "data": {
      "text/html": [
       "\n",
       "        <iframe\n",
       "            width=\"100%\"\n",
       "            height=\"525px\"\n",
       "            src=\"https://plot.ly/~gradientgardens/14.embed\"\n",
       "            frameborder=\"0\"\n",
       "            allowfullscreen\n",
       "        ></iframe>\n",
       "        "
      ],
      "text/plain": [
       "<IPython.lib.display.IFrame at 0x1215fd0b8>"
      ]
     },
     "execution_count": 311,
     "metadata": {},
     "output_type": "execute_result"
    }
   ],
   "source": [
    "fig = go.Figure()\n",
    "\n",
    "t_hist = go.Histogram(x=G,\n",
    "                      name='t_hist')\n",
    "\n",
    "fig.update_layout(\n",
    "    title=\"histogram of normal distribution using mid t as mean\",\n",
    "    xaxis_title=\"t\",\n",
    "    yaxis_title=\"count\",\n",
    ")\n",
    "\n",
    "fig.add_trace(t_hist)\n",
    "py.iplot(fig, filename = 't_hist', auto_open=False)"
   ]
  },
  {
   "cell_type": "markdown",
   "metadata": {},
   "source": [
    "### Plotting the normal curve over the normal histogram\n",
    "\n",
    "We will now do something a little more complicated... \n",
    "\n",
    "lets calculate the amount in the bins by hand and plot these as a curve over the histogram\n",
    "\n",
    "Let's wrap this in a function so we can use it again later\n",
    "\n",
    "This is called the normal curve"
   ]
  },
  {
   "cell_type": "code",
   "execution_count": 312,
   "metadata": {},
   "outputs": [],
   "source": [
    "def binCounts(G, bins=20):\n",
    "    # First lets find the bin length. I am choosing 20 bins for no reason\n",
    "    G_min = np.min(G)               # Smallest value of gauss\n",
    "    G_max = np.max(G)               # Get max  value of gauss\n",
    "    G_range = G_max - G_min         # Gaussian range\n",
    "    bin_length = G_range / bins     # Get length of bins\n",
    "\n",
    "\n",
    "    # Initialize the first bin\n",
    "    b = 0\n",
    "    b_start = G_min\n",
    "    b_stop  = G_min + bin_length\n",
    "\n",
    "    bin_counts = []\n",
    "    bin_starts = []\n",
    "    while b < bins:                    # Loop over bins\n",
    "        b_count = 0\n",
    "        for g in G:                    # Loop over gaussian points\n",
    "            if b_start <= g < b_stop:  # If our gaussian point is inside a bin \n",
    "                b_count += 1           # add to our bin count\n",
    "\n",
    "        bin_counts.append(b_count)\n",
    "        bin_starts.append(b_start)\n",
    "        b_start = b_start + bin_length\n",
    "        b_stop  = b_stop + bin_length\n",
    "        b += 1\n",
    "    return bin_counts, bin_starts\n"
   ]
  },
  {
   "cell_type": "code",
   "execution_count": 313,
   "metadata": {},
   "outputs": [
    {
     "data": {
      "text/plain": [
       "[4, 6, 15, 22, 41, 62, 102, 121, 153, 133, 122, 102, 54, 36, 18, 6, 0, 1, 1, 0]"
      ]
     },
     "execution_count": 313,
     "metadata": {},
     "output_type": "execute_result"
    }
   ],
   "source": [
    "bin_counts, bin_starts = binCounts(G)\n",
    "bin_counts"
   ]
  },
  {
   "cell_type": "markdown",
   "metadata": {},
   "source": [
    "### Plotting the normal curve over the histogram of normal distribution\n",
    "\n",
    "Below you will see the histogram function modified by our calculated bin_length.\n",
    "\n",
    "As well as the count of our 20 bins as dots on the normal curve. \n",
    "\n",
    "Our bin amounts don't match up exactly with the plotly plot but it is enough to get the point across.\n",
    "\n",
    "The take home is that when we sample from a normal distribution we are more likely to get values near the middle because they have higher counts."
   ]
  },
  {
   "cell_type": "code",
   "execution_count": 314,
   "metadata": {},
   "outputs": [
    {
     "data": {
      "text/html": [
       "\n",
       "        <iframe\n",
       "            width=\"100%\"\n",
       "            height=\"525px\"\n",
       "            src=\"https://plot.ly/~gradientgardens/24.embed\"\n",
       "            frameborder=\"0\"\n",
       "            allowfullscreen\n",
       "        ></iframe>\n",
       "        "
      ],
      "text/plain": [
       "<IPython.lib.display.IFrame at 0x11f0a7c50>"
      ]
     },
     "execution_count": 314,
     "metadata": {},
     "output_type": "execute_result"
    }
   ],
   "source": [
    "t_hist = go.Histogram(x=G,\n",
    "                      name='t_hist',\n",
    "                      xbins=dict(\n",
    "                        start=G_min,\n",
    "                        end=G_max,\n",
    "                        size=bin_length\n",
    "                    ))\n",
    "\n",
    "normal_curve = go.Scatter(x=bin_starts, y=bin_counts,\n",
    "                    mode='lines+markers',\n",
    "                    name='normal curve',\n",
    "                    marker=dict(\n",
    "                        color='purple',\n",
    "                        size=20,\n",
    "                        line=dict(color='red',width=2)\n",
    "                            )\n",
    "                        )\n",
    "\n",
    "\n",
    "\n",
    "fig = go.Figure()\n",
    "fig.update_layout(\n",
    "    title=\"normal histogram using mid t as mean with normal curve\",\n",
    "    xaxis_title=\"t\",\n",
    "    yaxis_title=\"count\",\n",
    ")\n",
    "\n",
    "fig.add_trace(t_hist)\n",
    "fig.add_trace(normal_curve)\n",
    "\n",
    "py.iplot(fig, filename = 't_hist_normalcurve', auto_open=False)"
   ]
  },
  {
   "cell_type": "markdown",
   "metadata": {},
   "source": [
    "### Plot of gaussian noise on middle value of Sin wave\n",
    "\n",
    "We will now plot the gaussian noise on the sin wave. Essentially the plot above is rotated to the right"
   ]
  },
  {
   "cell_type": "code",
   "execution_count": 315,
   "metadata": {},
   "outputs": [],
   "source": [
    "def normalizeBinCounts(x, G, bin_counts, norm_number=10):\n",
    "    # Now we can add in the points for the normal curve that we had above\n",
    "    # I am dividing each count by the max count and then dividing\n",
    "    # that by 10 to make it look good on the plot\n",
    "    bin_counts_normalized = (bin_counts/np.max(bin_counts)) / norm_number\n",
    "\n",
    "    #Now lets add that to mid_x so we will see the distribution in the correct place on x axis\n",
    "    x_bin_counts_normalized = (x * np.ones(bins)) + bin_counts_normalized\n",
    "    \n",
    "    # Making a vector of x the size of gauss sample. \n",
    "    # Just for plotting\n",
    "    x_vec = x * np.ones(len(G))\n",
    "    return x_bin_counts_normalized, x_vec\n"
   ]
  },
  {
   "cell_type": "code",
   "execution_count": 316,
   "metadata": {},
   "outputs": [],
   "source": [
    "# Now lets pass in the mid x value\n",
    "mid_x_bin_counts_normalized, mid_x_vector = normalizeBinCounts(mid_x, G, bin_counts)"
   ]
  },
  {
   "cell_type": "code",
   "execution_count": 317,
   "metadata": {},
   "outputs": [
    {
     "data": {
      "text/html": [
       "\n",
       "        <iframe\n",
       "            width=\"100%\"\n",
       "            height=\"525px\"\n",
       "            src=\"https://plot.ly/~gradientgardens/12.embed\"\n",
       "            frameborder=\"0\"\n",
       "            allowfullscreen\n",
       "        ></iframe>\n",
       "        "
      ],
      "text/plain": [
       "<IPython.lib.display.IFrame at 0x120c1bf28>"
      ]
     },
     "execution_count": 317,
     "metadata": {},
     "output_type": "execute_result"
    }
   ],
   "source": [
    "sinwave = go.Scatter(x=x, y=t,\n",
    "                    mode='lines',\n",
    "                    name='sinwave',\n",
    "                    marker=dict(\n",
    "                        color='green',\n",
    "                        size=20,\n",
    "                        line=dict(color='green',width=2)\n",
    "                            )\n",
    "                        )\n",
    "\n",
    "\n",
    "\n",
    "normal_dist = go.Scatter(x=mid_x_vector, y=G,\n",
    "                    mode='markers',\n",
    "                    name='normal dist',\n",
    "                    opacity=0.50,\n",
    "                    marker=dict(\n",
    "                        color='blue',\n",
    "                        size=2,\n",
    "                        line=dict(color='red',width=2)\n",
    "                            )\n",
    "                        )\n",
    "\n",
    "normal_curve = go.Scatter(x=mid_x_bin_counts_normalized, y=bin_starts,\n",
    "                    mode='lines+markers',\n",
    "                    name='normal curve (20 bins)',\n",
    "                    marker=dict(\n",
    "                        color='purple',\n",
    "                        size=10,\n",
    "                        line=dict(color='red',width=2)\n",
    "                            )\n",
    "                        )\n",
    "\n",
    "\n",
    "\n",
    "fig = go.Figure()\n",
    "fig.update_layout(\n",
    "    title=\"Sin wave with normal curve at mid t\",\n",
    "    xaxis_title=\"x\",\n",
    "    yaxis_title=\"t\",\n",
    ")\n",
    "\n",
    "fig.add_trace(sinwave)\n",
    "fig.add_trace(normal_dist)\n",
    "fig.add_trace(normal_curve)\n",
    "\n",
    "\n",
    "\n",
    "py.iplot(fig, filename = 'SinSample', auto_open=False)"
   ]
  },
  {
   "cell_type": "markdown",
   "metadata": {},
   "source": [
    "I think the above plot looks pretty good. We are almost done hang in there!!!\n",
    "\n",
    "I just want address two more things then \n",
    "we can pop in a cool widget and admire our handywork"
   ]
  },
  {
   "cell_type": "code",
   "execution_count": 339,
   "metadata": {},
   "outputs": [
    {
     "data": {
      "text/plain": [
       "'10'"
      ]
     },
     "execution_count": 339,
     "metadata": {},
     "output_type": "execute_result"
    }
   ],
   "source": [
    "# fstrings - This is an easy way to put variables into strings. \n",
    "variable = 10\n",
    "f'{variable}'"
   ]
  },
  {
   "cell_type": "markdown",
   "metadata": {},
   "source": [
    "#### Uniform sample from Sin wave (Using 1000 points)\n",
    "\n",
    "We will now plot the sin wave with 1000 points and draw two samples uniformly from that\n",
    "\n",
    "This will smooth out the sin wave and \n",
    "get us values that don't look like 0.333, 0.444 etc\n",
    "\n",
    "Lets draw 2 values from our 1000 points as x inputs for the graph"
   ]
  },
  {
   "cell_type": "code",
   "execution_count": 342,
   "metadata": {},
   "outputs": [
    {
     "data": {
      "text/plain": [
       "array([0.03703704, 0.23523524])"
      ]
     },
     "execution_count": 342,
     "metadata": {},
     "output_type": "execute_result"
    }
   ],
   "source": [
    "np.random.seed(1)\n",
    "N = 1000\n",
    "\n",
    "x = np.linspace(0, 1, N)    \n",
    "t = np.sin(2*np.pi*x)  \n",
    "\n",
    "random_index = np.random.choice(len(x), 2) # Draws two values randomly from 0,999\n",
    "x_samples = x[random_index]                # Get the x corresponding to random index\n",
    "x_samples"
   ]
  },
  {
   "cell_type": "markdown",
   "metadata": {},
   "source": [
    "### Adding an interactive widget\n",
    "\n",
    "Lets finish up the post by adding a plotly widget so we can grab random samples from our sin wave to create training data for fitting polynomials!\n",
    "\n",
    "\n",
    "First lets make a function that can take in an...\n",
    "\n",
    "x value, apply the sin function, generate a gaussian distribution, and bin counts\n",
    "\n",
    "Basically everything we did above"
   ]
  },
  {
   "cell_type": "code",
   "execution_count": 343,
   "metadata": {},
   "outputs": [],
   "source": [
    "def sinSample(x, bins=20, sigma=0.1, G_N=1000):\n",
    "    t = np.sin(2*np.pi*x)   \n",
    "    G = np.random.normal(t, sigma, G_N)\n",
    "    bin_counts, bin_starts = binCounts(G)\n",
    "    x_bin_counts_normalized, x_vector = normalizeBinCounts(x, G, bin_counts)\n",
    "    return t, G, bin_counts, bin_starts, x_bin_counts_normalized, x_vector"
   ]
  },
  {
   "cell_type": "markdown",
   "metadata": {},
   "source": [
    "Now lets apply the function to \n",
    "create lists of traces of normal dist and normal curve for plotting"
   ]
  },
  {
   "cell_type": "code",
   "execution_count": 344,
   "metadata": {},
   "outputs": [],
   "source": [
    "\n",
    "def sinSampleTraces(x):\n",
    "    t, G, bin_counts, bin_starts, x_bin_counts_normalized, x_vector = sinSample(x)\n",
    "    \n",
    "    normal_dist = go.Scatter(x=x_vector, y=G,\n",
    "                        mode='markers',\n",
    "                        name=f'normal dist x:{x}',\n",
    "                        opacity=0.50,\n",
    "                        marker=dict(\n",
    "                            color='blue',\n",
    "                            size=2,\n",
    "                            line=dict(color='red',width=2)\n",
    "                                )\n",
    "                            )\n",
    "\n",
    "    normal_curve = go.Scatter(x=x_bin_counts_normalized, y=bin_starts,\n",
    "                        mode='lines+markers',\n",
    "                        name=f'normal curve x:{x}',\n",
    "                        marker=dict(\n",
    "                            color='purple',\n",
    "                            size=10,\n",
    "                            line=dict(color='red',width=2)\n",
    "                                )\n",
    "                            ) \n",
    "    \n",
    "    return normal_dist, normal_curve\n"
   ]
  },
  {
   "cell_type": "markdown",
   "metadata": {},
   "source": [
    "Now lets loop through the two samples and add the traces to a figure"
   ]
  },
  {
   "cell_type": "code",
   "execution_count": 345,
   "metadata": {},
   "outputs": [
    {
     "data": {
      "text/html": [
       "\n",
       "        <iframe\n",
       "            width=\"100%\"\n",
       "            height=\"525px\"\n",
       "            src=\"https://plot.ly/~gradientgardens/12.embed\"\n",
       "            frameborder=\"0\"\n",
       "            allowfullscreen\n",
       "        ></iframe>\n",
       "        "
      ],
      "text/plain": [
       "<IPython.lib.display.IFrame at 0x11fd823c8>"
      ]
     },
     "execution_count": 345,
     "metadata": {},
     "output_type": "execute_result"
    }
   ],
   "source": [
    "fig = go.Figure()\n",
    "\n",
    "for x_sample in x_samples:\n",
    "    normal_dist, normal_curve = sinSampleTraces(x_sample)\n",
    "    fig.add_trace(normal_dist)\n",
    "    fig.add_trace(normal_curve)\n",
    "\n",
    "sinwave = go.Scatter(x=x, y=t,\n",
    "                    mode='lines',\n",
    "                    name='sinwave',\n",
    "                    marker=dict(\n",
    "                        color='green',\n",
    "                        size=20,\n",
    "                        line=dict(color='green',width=2)\n",
    "                            )\n",
    "                        )\n",
    "\n",
    "fig.add_trace(sinwave)\n",
    "\n",
    "fig.update_layout(\n",
    "    title=\"Sin wave with normal curve with multiple samples\",\n",
    "    xaxis_title=\"x\",\n",
    "    yaxis_title=\"t\",\n",
    ")\n",
    "\n",
    "\n",
    "py.iplot(fig, filename = 'SinSample', auto_open=False)\n",
    "\n"
   ]
  },
  {
   "cell_type": "code",
   "execution_count": null,
   "metadata": {},
   "outputs": [],
   "source": []
  },
  {
   "cell_type": "code",
   "execution_count": 323,
   "metadata": {},
   "outputs": [],
   "source": [
    "df = pd.read_csv(\n",
    "    'https://raw.githubusercontent.com/yankev/testing/master/datasets/nycflights.csv')\n",
    "df = df.drop(df.columns[[0]], axis=1)"
   ]
  },
  {
   "cell_type": "code",
   "execution_count": 324,
   "metadata": {},
   "outputs": [],
   "source": [
    "month = widgets.IntSlider(\n",
    "    value=1.0,\n",
    "    min=1.0,\n",
    "    max=12.0,\n",
    "    step=1.0,\n",
    "    description='Month:',\n",
    "    continuous_update=False\n",
    ")\n",
    "\n",
    "use_date = widgets.Checkbox(\n",
    "    description='Date: ',\n",
    "    value=True,\n",
    ")\n",
    "\n",
    "container = widgets.HBox(children=[use_date, month])\n",
    "\n",
    "textbox = widgets.Dropdown(\n",
    "    description='Airline:   ',\n",
    "    value='DL',\n",
    "    options=df['carrier'].unique().tolist()\n",
    ")\n",
    "\n",
    "origin = widgets.Dropdown(\n",
    "    options=list(df['origin'].unique()),\n",
    "    value='LGA',\n",
    "    description='Origin Airport:',\n",
    ")\n",
    "\n",
    "\n",
    "# Assign an empty figure widget with two traces\n",
    "trace1 = go.Histogram(x=df['arr_delay'], opacity=0.75, name='Arrival Delays')\n",
    "trace2 = go.Histogram(x=df['dep_delay'], opacity=0.75, name='Departure Delays')\n",
    "g = go.FigureWidget(data=[trace1, trace2],\n",
    "                    layout=go.Layout(\n",
    "                        title=dict(\n",
    "                            text='NYC FlightDatabase'\n",
    "                        ),\n",
    "                        barmode='overlay'\n",
    "                    ))"
   ]
  },
  {
   "cell_type": "code",
   "execution_count": 325,
   "metadata": {},
   "outputs": [],
   "source": [
    "def validate():\n",
    "    if origin.value in df['origin'].unique() and textbox.value in df['carrier'].unique():\n",
    "        return True\n",
    "    else:\n",
    "        return False\n",
    "\n",
    "\n",
    "def response(change):\n",
    "    if validate():\n",
    "        if use_date.value:\n",
    "            filter_list = [i and j and k for i, j, k in\n",
    "                           zip(df['month'] == month.value, df['carrier'] == textbox.value,\n",
    "                               df['origin'] == origin.value)]\n",
    "            temp_df = df[filter_list]\n",
    "\n",
    "        else:\n",
    "            filter_list = [i and j for i, j in\n",
    "                           zip(df['carrier'] == 'DL', df['origin'] == origin.value)]\n",
    "            temp_df = df[filter_list]\n",
    "        x1 = temp_df['arr_delay']\n",
    "        x2 = temp_df['dep_delay']\n",
    "        with g.batch_update():\n",
    "            g.data[0].x = x1\n",
    "            g.data[1].x = x2\n",
    "            g.layout.barmode = 'overlay'\n",
    "            g.layout.xaxis.title = 'Delay in Minutes'\n",
    "            g.layout.yaxis.title = 'Number of Delays'\n",
    "\n",
    "\n",
    "origin.observe(response, names=\"value\")\n",
    "textbox.observe(response, names=\"value\")\n",
    "month.observe(response, names=\"value\")\n",
    "use_date.observe(response, names=\"value\")"
   ]
  },
  {
   "cell_type": "code",
   "execution_count": 13,
   "metadata": {},
   "outputs": [
    {
     "data": {
      "application/vnd.jupyter.widget-view+json": {
       "model_id": "d07f93e5e8754c3cabb901e2d7d7ec3d",
       "version_major": 2,
       "version_minor": 0
      },
      "text/plain": [
       "VBox(children=(HBox(children=(Checkbox(value=True, description='Date: '), IntSlider(value=1, continuous_update…"
      ]
     },
     "metadata": {},
     "output_type": "display_data"
    }
   ],
   "source": [
    "\n",
    "\n",
    "container2 = widgets.HBox([origin, textbox])\n",
    "widgets.VBox([container,\n",
    "              container2,\n",
    "              g])\n",
    "\n"
   ]
  },
  {
   "cell_type": "code",
   "execution_count": null,
   "metadata": {},
   "outputs": [],
   "source": []
  }
 ],
 "metadata": {
  "kernelspec": {
   "display_name": "Python 3",
   "language": "python",
   "name": "python3"
  },
  "language_info": {
   "codemirror_mode": {
    "name": "ipython",
    "version": 3
   },
   "file_extension": ".py",
   "mimetype": "text/x-python",
   "name": "python",
   "nbconvert_exporter": "python",
   "pygments_lexer": "ipython3",
   "version": "3.7.3"
  }
 },
 "nbformat": 4,
 "nbformat_minor": 2
}
